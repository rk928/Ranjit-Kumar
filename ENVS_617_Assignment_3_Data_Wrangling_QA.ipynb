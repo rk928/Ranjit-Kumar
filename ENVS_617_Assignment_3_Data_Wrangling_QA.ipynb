{
  "nbformat": 4,
  "nbformat_minor": 0,
  "metadata": {
    "colab": {
      "provenance": [],
      "include_colab_link": true
    },
    "kernelspec": {
      "name": "python3",
      "display_name": "Python 3"
    },
    "language_info": {
      "name": "python"
    }
  },
  "cells": [
    {
      "cell_type": "markdown",
      "metadata": {
        "id": "view-in-github",
        "colab_type": "text"
      },
      "source": [
        "<a href=\"https://colab.research.google.com/github/rk928/Ranjit-Kumar/blob/main/ENVS_617_Assignment_3_Data_Wrangling_QA.ipynb\" target=\"_parent\"><img src=\"https://colab.research.google.com/assets/colab-badge.svg\" alt=\"Open In Colab\"/></a>"
      ]
    },
    {
      "cell_type": "markdown",
      "metadata": {
        "id": "yYGdLF1_iCcm"
      },
      "source": [
        "# Assignment 3: Data Wrangling\n",
        "\n",
        "In this assignment, you'll be putting your new data wrangling skills to use. You'll be working with data on threatened species from the OECD Environment Statistics database. This dataset on biodiversity shows numbers of known species and threatened species with the aim of indicating the state of mammals, birds, freshwater fish, reptiles, amphibians and vascular plants.\n",
        "\n",
        "An acronym that may be helpful to know is IUCN: the International Union for Conservation of Nature."
      ]
    },
    {
      "cell_type": "markdown",
      "metadata": {
        "id": "bvFUxN_pjNFk"
      },
      "source": [
        "# Part 1. Proportion of endangered mammal species\n",
        "\n",
        "In part 1, we'll do a series of data manipulations to find out which country has the highest proportion of endangered species among all mammal species. To get started:\n",
        "\n",
        "1. Import the Pandas package\n",
        "2. Read the data into a dataframe using `pd.read_csv()`. The csv is avaialable at `https://raw.githubusercontent.com/envirodatascience/ENVS-617-Class-Data/main/OECD_threatened_species.csv`."
      ]
    },
    {
      "cell_type": "code",
      "source": [
        "import pandas as pd\n",
        "import numpy as np\n",
        "read_csv = 'https://raw.githubusercontent.com/envirodatascience/ENVS-617-Class-Data/main/OECD_threatened_species.csv'\n",
        "mammals_df = pd.read_csv(read_csv)\n",
        "mammals_df.head()"
      ],
      "metadata": {
        "colab": {
          "base_uri": "https://localhost:8080/",
          "height": 327
        },
        "id": "z5uzszspvj4E",
        "outputId": "7bb7a447-5652-4f8f-89cf-d30b5b66951e"
      },
      "execution_count": 3,
      "outputs": [
        {
          "output_type": "execute_result",
          "data": {
            "text/plain": [
              "            IUCN                             IUCN Category    SPEC  Species  \\\n",
              "0      TOT_KNOWN             Total number of known species  MAMMAL  Mammals   \n",
              "1  TOT_KNOWN_IND  Total number of indigenous known species  MAMMAL  Mammals   \n",
              "2     ENDANGERED              Number of endangered species  MAMMAL  Mammals   \n",
              "3       CRITICAL   Number of critically endangered species  MAMMAL  Mammals   \n",
              "4     VULNERABLE              Number of vulnerable species  MAMMAL  Mammals   \n",
              "\n",
              "   COU    Country Unit Code    Unit  Reference Period Code  Reference Period  \\\n",
              "0  AUS  Australia       NBR  Number                    NaN               NaN   \n",
              "1  AUS  Australia       NBR  Number                    NaN               NaN   \n",
              "2  AUS  Australia       NBR  Number                    NaN               NaN   \n",
              "3  AUS  Australia       NBR  Number                    NaN               NaN   \n",
              "4  AUS  Australia       NBR  Number                    NaN               NaN   \n",
              "\n",
              "   Value Flag Codes Flags  \n",
              "0  380.0        NaN   NaN  \n",
              "1  353.0        NaN   NaN  \n",
              "2   38.0        NaN   NaN  \n",
              "3   10.0        NaN   NaN  \n",
              "4   59.0        NaN   NaN  "
            ],
            "text/html": [
              "\n",
              "  <div id=\"df-d536a896-e378-4a7f-870a-617a7edee7b3\" class=\"colab-df-container\">\n",
              "    <div>\n",
              "<style scoped>\n",
              "    .dataframe tbody tr th:only-of-type {\n",
              "        vertical-align: middle;\n",
              "    }\n",
              "\n",
              "    .dataframe tbody tr th {\n",
              "        vertical-align: top;\n",
              "    }\n",
              "\n",
              "    .dataframe thead th {\n",
              "        text-align: right;\n",
              "    }\n",
              "</style>\n",
              "<table border=\"1\" class=\"dataframe\">\n",
              "  <thead>\n",
              "    <tr style=\"text-align: right;\">\n",
              "      <th></th>\n",
              "      <th>IUCN</th>\n",
              "      <th>IUCN Category</th>\n",
              "      <th>SPEC</th>\n",
              "      <th>Species</th>\n",
              "      <th>COU</th>\n",
              "      <th>Country</th>\n",
              "      <th>Unit Code</th>\n",
              "      <th>Unit</th>\n",
              "      <th>Reference Period Code</th>\n",
              "      <th>Reference Period</th>\n",
              "      <th>Value</th>\n",
              "      <th>Flag Codes</th>\n",
              "      <th>Flags</th>\n",
              "    </tr>\n",
              "  </thead>\n",
              "  <tbody>\n",
              "    <tr>\n",
              "      <th>0</th>\n",
              "      <td>TOT_KNOWN</td>\n",
              "      <td>Total number of known species</td>\n",
              "      <td>MAMMAL</td>\n",
              "      <td>Mammals</td>\n",
              "      <td>AUS</td>\n",
              "      <td>Australia</td>\n",
              "      <td>NBR</td>\n",
              "      <td>Number</td>\n",
              "      <td>NaN</td>\n",
              "      <td>NaN</td>\n",
              "      <td>380.0</td>\n",
              "      <td>NaN</td>\n",
              "      <td>NaN</td>\n",
              "    </tr>\n",
              "    <tr>\n",
              "      <th>1</th>\n",
              "      <td>TOT_KNOWN_IND</td>\n",
              "      <td>Total number of indigenous known species</td>\n",
              "      <td>MAMMAL</td>\n",
              "      <td>Mammals</td>\n",
              "      <td>AUS</td>\n",
              "      <td>Australia</td>\n",
              "      <td>NBR</td>\n",
              "      <td>Number</td>\n",
              "      <td>NaN</td>\n",
              "      <td>NaN</td>\n",
              "      <td>353.0</td>\n",
              "      <td>NaN</td>\n",
              "      <td>NaN</td>\n",
              "    </tr>\n",
              "    <tr>\n",
              "      <th>2</th>\n",
              "      <td>ENDANGERED</td>\n",
              "      <td>Number of endangered species</td>\n",
              "      <td>MAMMAL</td>\n",
              "      <td>Mammals</td>\n",
              "      <td>AUS</td>\n",
              "      <td>Australia</td>\n",
              "      <td>NBR</td>\n",
              "      <td>Number</td>\n",
              "      <td>NaN</td>\n",
              "      <td>NaN</td>\n",
              "      <td>38.0</td>\n",
              "      <td>NaN</td>\n",
              "      <td>NaN</td>\n",
              "    </tr>\n",
              "    <tr>\n",
              "      <th>3</th>\n",
              "      <td>CRITICAL</td>\n",
              "      <td>Number of critically endangered species</td>\n",
              "      <td>MAMMAL</td>\n",
              "      <td>Mammals</td>\n",
              "      <td>AUS</td>\n",
              "      <td>Australia</td>\n",
              "      <td>NBR</td>\n",
              "      <td>Number</td>\n",
              "      <td>NaN</td>\n",
              "      <td>NaN</td>\n",
              "      <td>10.0</td>\n",
              "      <td>NaN</td>\n",
              "      <td>NaN</td>\n",
              "    </tr>\n",
              "    <tr>\n",
              "      <th>4</th>\n",
              "      <td>VULNERABLE</td>\n",
              "      <td>Number of vulnerable species</td>\n",
              "      <td>MAMMAL</td>\n",
              "      <td>Mammals</td>\n",
              "      <td>AUS</td>\n",
              "      <td>Australia</td>\n",
              "      <td>NBR</td>\n",
              "      <td>Number</td>\n",
              "      <td>NaN</td>\n",
              "      <td>NaN</td>\n",
              "      <td>59.0</td>\n",
              "      <td>NaN</td>\n",
              "      <td>NaN</td>\n",
              "    </tr>\n",
              "  </tbody>\n",
              "</table>\n",
              "</div>\n",
              "    <div class=\"colab-df-buttons\">\n",
              "\n",
              "  <div class=\"colab-df-container\">\n",
              "    <button class=\"colab-df-convert\" onclick=\"convertToInteractive('df-d536a896-e378-4a7f-870a-617a7edee7b3')\"\n",
              "            title=\"Convert this dataframe to an interactive table.\"\n",
              "            style=\"display:none;\">\n",
              "\n",
              "  <svg xmlns=\"http://www.w3.org/2000/svg\" height=\"24px\" viewBox=\"0 -960 960 960\">\n",
              "    <path d=\"M120-120v-720h720v720H120Zm60-500h600v-160H180v160Zm220 220h160v-160H400v160Zm0 220h160v-160H400v160ZM180-400h160v-160H180v160Zm440 0h160v-160H620v160ZM180-180h160v-160H180v160Zm440 0h160v-160H620v160Z\"/>\n",
              "  </svg>\n",
              "    </button>\n",
              "\n",
              "  <style>\n",
              "    .colab-df-container {\n",
              "      display:flex;\n",
              "      gap: 12px;\n",
              "    }\n",
              "\n",
              "    .colab-df-convert {\n",
              "      background-color: #E8F0FE;\n",
              "      border: none;\n",
              "      border-radius: 50%;\n",
              "      cursor: pointer;\n",
              "      display: none;\n",
              "      fill: #1967D2;\n",
              "      height: 32px;\n",
              "      padding: 0 0 0 0;\n",
              "      width: 32px;\n",
              "    }\n",
              "\n",
              "    .colab-df-convert:hover {\n",
              "      background-color: #E2EBFA;\n",
              "      box-shadow: 0px 1px 2px rgba(60, 64, 67, 0.3), 0px 1px 3px 1px rgba(60, 64, 67, 0.15);\n",
              "      fill: #174EA6;\n",
              "    }\n",
              "\n",
              "    .colab-df-buttons div {\n",
              "      margin-bottom: 4px;\n",
              "    }\n",
              "\n",
              "    [theme=dark] .colab-df-convert {\n",
              "      background-color: #3B4455;\n",
              "      fill: #D2E3FC;\n",
              "    }\n",
              "\n",
              "    [theme=dark] .colab-df-convert:hover {\n",
              "      background-color: #434B5C;\n",
              "      box-shadow: 0px 1px 3px 1px rgba(0, 0, 0, 0.15);\n",
              "      filter: drop-shadow(0px 1px 2px rgba(0, 0, 0, 0.3));\n",
              "      fill: #FFFFFF;\n",
              "    }\n",
              "  </style>\n",
              "\n",
              "    <script>\n",
              "      const buttonEl =\n",
              "        document.querySelector('#df-d536a896-e378-4a7f-870a-617a7edee7b3 button.colab-df-convert');\n",
              "      buttonEl.style.display =\n",
              "        google.colab.kernel.accessAllowed ? 'block' : 'none';\n",
              "\n",
              "      async function convertToInteractive(key) {\n",
              "        const element = document.querySelector('#df-d536a896-e378-4a7f-870a-617a7edee7b3');\n",
              "        const dataTable =\n",
              "          await google.colab.kernel.invokeFunction('convertToInteractive',\n",
              "                                                    [key], {});\n",
              "        if (!dataTable) return;\n",
              "\n",
              "        const docLinkHtml = 'Like what you see? Visit the ' +\n",
              "          '<a target=\"_blank\" href=https://colab.research.google.com/notebooks/data_table.ipynb>data table notebook</a>'\n",
              "          + ' to learn more about interactive tables.';\n",
              "        element.innerHTML = '';\n",
              "        dataTable['output_type'] = 'display_data';\n",
              "        await google.colab.output.renderOutput(dataTable, element);\n",
              "        const docLink = document.createElement('div');\n",
              "        docLink.innerHTML = docLinkHtml;\n",
              "        element.appendChild(docLink);\n",
              "      }\n",
              "    </script>\n",
              "  </div>\n",
              "\n",
              "\n",
              "<div id=\"df-b5c7b27c-3b86-43f3-96a5-076e287d99bc\">\n",
              "  <button class=\"colab-df-quickchart\" onclick=\"quickchart('df-b5c7b27c-3b86-43f3-96a5-076e287d99bc')\"\n",
              "            title=\"Suggest charts\"\n",
              "            style=\"display:none;\">\n",
              "\n",
              "<svg xmlns=\"http://www.w3.org/2000/svg\" height=\"24px\"viewBox=\"0 0 24 24\"\n",
              "     width=\"24px\">\n",
              "    <g>\n",
              "        <path d=\"M19 3H5c-1.1 0-2 .9-2 2v14c0 1.1.9 2 2 2h14c1.1 0 2-.9 2-2V5c0-1.1-.9-2-2-2zM9 17H7v-7h2v7zm4 0h-2V7h2v10zm4 0h-2v-4h2v4z\"/>\n",
              "    </g>\n",
              "</svg>\n",
              "  </button>\n",
              "\n",
              "<style>\n",
              "  .colab-df-quickchart {\n",
              "      --bg-color: #E8F0FE;\n",
              "      --fill-color: #1967D2;\n",
              "      --hover-bg-color: #E2EBFA;\n",
              "      --hover-fill-color: #174EA6;\n",
              "      --disabled-fill-color: #AAA;\n",
              "      --disabled-bg-color: #DDD;\n",
              "  }\n",
              "\n",
              "  [theme=dark] .colab-df-quickchart {\n",
              "      --bg-color: #3B4455;\n",
              "      --fill-color: #D2E3FC;\n",
              "      --hover-bg-color: #434B5C;\n",
              "      --hover-fill-color: #FFFFFF;\n",
              "      --disabled-bg-color: #3B4455;\n",
              "      --disabled-fill-color: #666;\n",
              "  }\n",
              "\n",
              "  .colab-df-quickchart {\n",
              "    background-color: var(--bg-color);\n",
              "    border: none;\n",
              "    border-radius: 50%;\n",
              "    cursor: pointer;\n",
              "    display: none;\n",
              "    fill: var(--fill-color);\n",
              "    height: 32px;\n",
              "    padding: 0;\n",
              "    width: 32px;\n",
              "  }\n",
              "\n",
              "  .colab-df-quickchart:hover {\n",
              "    background-color: var(--hover-bg-color);\n",
              "    box-shadow: 0 1px 2px rgba(60, 64, 67, 0.3), 0 1px 3px 1px rgba(60, 64, 67, 0.15);\n",
              "    fill: var(--button-hover-fill-color);\n",
              "  }\n",
              "\n",
              "  .colab-df-quickchart-complete:disabled,\n",
              "  .colab-df-quickchart-complete:disabled:hover {\n",
              "    background-color: var(--disabled-bg-color);\n",
              "    fill: var(--disabled-fill-color);\n",
              "    box-shadow: none;\n",
              "  }\n",
              "\n",
              "  .colab-df-spinner {\n",
              "    border: 2px solid var(--fill-color);\n",
              "    border-color: transparent;\n",
              "    border-bottom-color: var(--fill-color);\n",
              "    animation:\n",
              "      spin 1s steps(1) infinite;\n",
              "  }\n",
              "\n",
              "  @keyframes spin {\n",
              "    0% {\n",
              "      border-color: transparent;\n",
              "      border-bottom-color: var(--fill-color);\n",
              "      border-left-color: var(--fill-color);\n",
              "    }\n",
              "    20% {\n",
              "      border-color: transparent;\n",
              "      border-left-color: var(--fill-color);\n",
              "      border-top-color: var(--fill-color);\n",
              "    }\n",
              "    30% {\n",
              "      border-color: transparent;\n",
              "      border-left-color: var(--fill-color);\n",
              "      border-top-color: var(--fill-color);\n",
              "      border-right-color: var(--fill-color);\n",
              "    }\n",
              "    40% {\n",
              "      border-color: transparent;\n",
              "      border-right-color: var(--fill-color);\n",
              "      border-top-color: var(--fill-color);\n",
              "    }\n",
              "    60% {\n",
              "      border-color: transparent;\n",
              "      border-right-color: var(--fill-color);\n",
              "    }\n",
              "    80% {\n",
              "      border-color: transparent;\n",
              "      border-right-color: var(--fill-color);\n",
              "      border-bottom-color: var(--fill-color);\n",
              "    }\n",
              "    90% {\n",
              "      border-color: transparent;\n",
              "      border-bottom-color: var(--fill-color);\n",
              "    }\n",
              "  }\n",
              "</style>\n",
              "\n",
              "  <script>\n",
              "    async function quickchart(key) {\n",
              "      const quickchartButtonEl =\n",
              "        document.querySelector('#' + key + ' button');\n",
              "      quickchartButtonEl.disabled = true;  // To prevent multiple clicks.\n",
              "      quickchartButtonEl.classList.add('colab-df-spinner');\n",
              "      try {\n",
              "        const charts = await google.colab.kernel.invokeFunction(\n",
              "            'suggestCharts', [key], {});\n",
              "      } catch (error) {\n",
              "        console.error('Error during call to suggestCharts:', error);\n",
              "      }\n",
              "      quickchartButtonEl.classList.remove('colab-df-spinner');\n",
              "      quickchartButtonEl.classList.add('colab-df-quickchart-complete');\n",
              "    }\n",
              "    (() => {\n",
              "      let quickchartButtonEl =\n",
              "        document.querySelector('#df-b5c7b27c-3b86-43f3-96a5-076e287d99bc button');\n",
              "      quickchartButtonEl.style.display =\n",
              "        google.colab.kernel.accessAllowed ? 'block' : 'none';\n",
              "    })();\n",
              "  </script>\n",
              "</div>\n",
              "\n",
              "    </div>\n",
              "  </div>\n"
            ],
            "application/vnd.google.colaboratory.intrinsic+json": {
              "type": "dataframe",
              "variable_name": "mammals_df",
              "summary": "{\n  \"name\": \"mammals_df\",\n  \"rows\": 2923,\n  \"fields\": [\n    {\n      \"column\": \"IUCN\",\n      \"properties\": {\n        \"dtype\": \"category\",\n        \"num_unique_values\": 10,\n        \"samples\": [\n          \"VULNERABLE_IND\",\n          \"TOT_KNOWN_IND\",\n          \"THREATENED\"\n        ],\n        \"semantic_type\": \"\",\n        \"description\": \"\"\n      }\n    },\n    {\n      \"column\": \"IUCN Category\",\n      \"properties\": {\n        \"dtype\": \"category\",\n        \"num_unique_values\": 10,\n        \"samples\": [\n          \"Number of vulnerable indigenous species\",\n          \"Total number of indigenous known species\",\n          \"Total number of threatened species\"\n        ],\n        \"semantic_type\": \"\",\n        \"description\": \"\"\n      }\n    },\n    {\n      \"column\": \"SPEC\",\n      \"properties\": {\n        \"dtype\": \"category\",\n        \"num_unique_values\": 11,\n        \"samples\": [\n          \"FISH_TOT\",\n          \"MAMMAL\",\n          \"LICHEN\"\n        ],\n        \"semantic_type\": \"\",\n        \"description\": \"\"\n      }\n    },\n    {\n      \"column\": \"Species\",\n      \"properties\": {\n        \"dtype\": \"category\",\n        \"num_unique_values\": 11,\n        \"samples\": [\n          \"Fish\",\n          \"Mammals\",\n          \"Lichens\"\n        ],\n        \"semantic_type\": \"\",\n        \"description\": \"\"\n      }\n    },\n    {\n      \"column\": \"COU\",\n      \"properties\": {\n        \"dtype\": \"category\",\n        \"num_unique_values\": 39,\n        \"samples\": [\n          \"LUX\",\n          \"BRA\",\n          \"CZE\"\n        ],\n        \"semantic_type\": \"\",\n        \"description\": \"\"\n      }\n    },\n    {\n      \"column\": \"Country\",\n      \"properties\": {\n        \"dtype\": \"category\",\n        \"num_unique_values\": 39,\n        \"samples\": [\n          \"Luxembourg\",\n          \"Brazil\",\n          \"Czech Republic\"\n        ],\n        \"semantic_type\": \"\",\n        \"description\": \"\"\n      }\n    },\n    {\n      \"column\": \"Unit Code\",\n      \"properties\": {\n        \"dtype\": \"category\",\n        \"num_unique_values\": 1,\n        \"samples\": [\n          \"NBR\"\n        ],\n        \"semantic_type\": \"\",\n        \"description\": \"\"\n      }\n    },\n    {\n      \"column\": \"Unit\",\n      \"properties\": {\n        \"dtype\": \"category\",\n        \"num_unique_values\": 1,\n        \"samples\": [\n          \"Number\"\n        ],\n        \"semantic_type\": \"\",\n        \"description\": \"\"\n      }\n    },\n    {\n      \"column\": \"Reference Period Code\",\n      \"properties\": {\n        \"dtype\": \"number\",\n        \"std\": null,\n        \"min\": null,\n        \"max\": null,\n        \"num_unique_values\": 0,\n        \"samples\": [],\n        \"semantic_type\": \"\",\n        \"description\": \"\"\n      }\n    },\n    {\n      \"column\": \"Reference Period\",\n      \"properties\": {\n        \"dtype\": \"number\",\n        \"std\": null,\n        \"min\": null,\n        \"max\": null,\n        \"num_unique_values\": 0,\n        \"samples\": [],\n        \"semantic_type\": \"\",\n        \"description\": \"\"\n      }\n    },\n    {\n      \"column\": \"Value\",\n      \"properties\": {\n        \"dtype\": \"number\",\n        \"std\": 3679.144048070985,\n        \"min\": 0.0,\n        \"max\": 114095.0,\n        \"num_unique_values\": 558,\n        \"samples\": [],\n        \"semantic_type\": \"\",\n        \"description\": \"\"\n      }\n    },\n    {\n      \"column\": \"Flag Codes\",\n      \"properties\": {\n        \"dtype\": \"category\",\n        \"num_unique_values\": 1,\n        \"samples\": [],\n        \"semantic_type\": \"\",\n        \"description\": \"\"\n      }\n    },\n    {\n      \"column\": \"Flags\",\n      \"properties\": {\n        \"dtype\": \"category\",\n        \"num_unique_values\": 1,\n        \"samples\": [],\n        \"semantic_type\": \"\",\n        \"description\": \"\"\n      }\n    }\n  ]\n}"
            }
          },
          "metadata": {},
          "execution_count": 3
        }
      ]
    },
    {
      "cell_type": "code",
      "metadata": {
        "id": "LhVwwyRdX8X5"
      },
      "source": [
        "# Put your code here to load the pandas package and read in the data frame"
      ],
      "execution_count": null,
      "outputs": []
    },
    {
      "cell_type": "markdown",
      "metadata": {
        "id": "X-Glz5EAmvok"
      },
      "source": [
        "## 1.1. Look at the data\n",
        "First things first: let's see what this data set looks like. Write code below to examine the overall structure of the dataframe. Look at the first rows of the data, the types of columns, the shape of the data. What columns are there (what are the column names)? How many columns and row are there? What do they represent?"
      ]
    },
    {
      "cell_type": "markdown",
      "metadata": {
        "id": "715sMUxekYY3"
      },
      "source": [
        "## 1.2. How would you describe the structure of this data in words?\n",
        "\n"
      ]
    },
    {
      "cell_type": "markdown",
      "metadata": {
        "id": "8RQF2Yv3mZPd"
      },
      "source": [
        "## 1.3. Filtering the data\n",
        "\n",
        "Since we're interested in data on mammals, filter the dataframe for only data for mammals and store that in a new `mammals_df`."
      ]
    },
    {
      "cell_type": "markdown",
      "metadata": {
        "id": "qBBrgonpkeWm"
      },
      "source": [
        "## 1.4. Reshaping the data\n",
        "\n",
        "Let's reshape the data so that we can compare categories of the status of mammals within a country. Pivot the dataframe so that it has one row per country, with columns for each IUCN category. You will want to have a table that keeps the columns `Country`, `COU`, and `Species` as they are, and then creates new columns for each category in the existing `IUCN` column. Store that in a new `mammals_df_wide`.\n",
        "\n",
        "Hint: Try reading the `.pivot()` documentation [here](https://pandas.pydata.org/docs/reference/api/pandas.DataFrame.pivot.html)."
      ]
    },
    {
      "cell_type": "markdown",
      "metadata": {
        "id": "YbMx25dNJLPV"
      },
      "source": [
        "Now check the shape of the new wide dataframe:"
      ]
    },
    {
      "cell_type": "markdown",
      "metadata": {
        "id": "5A7aTXR7Xhbw"
      },
      "source": [
        "## 1.5. Resetting the index\n",
        "\n",
        "Depending on how you structured your pivot table, you may have noticed that your DataFrame now contains multiple column headers. This is called a _MultiIndex_ in Pandas. Although it sometimes has its uses, to simplify things for now, turn these into their own regular columns by using `.reset_index()`.\n",
        "\n",
        "Uncomment and run the line of code below. (If your `mammals_df_wide` already only has a single index column, then you can skip this.)"
      ]
    },
    {
      "cell_type": "code",
      "source": [
        "# mammals_df_wide = mammals_df_wide.reset_index()"
      ],
      "metadata": {
        "id": "PwtUk8oxADMM"
      },
      "execution_count": null,
      "outputs": []
    },
    {
      "cell_type": "markdown",
      "source": [
        "## 1.6. Check for duplicates\n",
        "\n",
        "Lets now make sure we have no duplicated rows of data. Run code to check whether there are duplicates."
      ],
      "metadata": {
        "id": "CixFnIC7q-qx"
      }
    },
    {
      "cell_type": "markdown",
      "metadata": {
        "id": "rxQXIF7AruPZ"
      },
      "source": [
        "## 1.7. Calculating the proportion of endangered mammal species\n",
        "Create a new column that contains the proportion of mammal species in each country that are categorized as endangered. To to this, simply select your dataframe columns and use the `/` operator. Assign this to a new column.\n",
        "\n",
        "\n",
        "Ex:\n",
        "```\n",
        "df['new_column'] = df.column_1 / df.column_2\n",
        "```\n",
        "\n",
        "\n",
        "Verify this worked as expected by looking at one row and making sure the calculation is correct."
      ]
    },
    {
      "cell_type": "markdown",
      "metadata": {
        "id": "IRtgmpepsrk5"
      },
      "source": [
        "## 1.8. Sort your data: Which country has the highest proportion?\n",
        "Now it's time to answer our question: in this data set, which country has the highest proportion of endangered mammal species?\n",
        "\n",
        "\n",
        "HINT: when you sort the dataframe, you will need use the argument `ascending=False`\n",
        "\n",
        "Does this answer make sense? Do you have any hypotheses why? (Just a few sentences.)"
      ]
    },
    {
      "cell_type": "markdown",
      "metadata": {
        "id": "T6kYYWwGtUDo"
      },
      "source": [
        "# Part 2. Protected areas\n",
        "Now let's compare the proportion of endangered mammal species with protected land areas in those countries. First, we'll import a DataFrame with this information. The values in this DataFrame are the percent of total land area that is protected in the country."
      ]
    },
    {
      "cell_type": "code",
      "metadata": {
        "id": "GBumSe8ztTn3"
      },
      "source": [
        "url = 'https://raw.githubusercontent.com/envirodatascience/ENVS-617-Class-Data/main/OECD_protected_areas.csv'"
      ],
      "execution_count": null,
      "outputs": []
    },
    {
      "cell_type": "markdown",
      "metadata": {
        "id": "S9b4mVhEVawf"
      },
      "source": [
        "## 2.1. Look at the data\n",
        "Again, look at the first few rows of the data and the structure of the data. What data types do the columns have?"
      ]
    },
    {
      "cell_type": "markdown",
      "metadata": {
        "id": "asQY9V54VvNq"
      },
      "source": [
        "## 2.2. Merge with the species data\n",
        "\n",
        "Merge this DataFrame with `mammals_df_wide` so that for every country in `mammals_df_wide`, we have the protected land area %. This way, we can compare the proportion of endangered mammal species with percent protected areas. You will need to decide whether to use a left join, inner join, or outer join.\n",
        "\n",
        "Hint: To match rows of two dataframes, the values in the key column need to be identical. How can we transform one or both key colums so that we have identical matches?"
      ]
    },
    {
      "cell_type": "markdown",
      "metadata": {
        "id": "BeX0o44KWly9"
      },
      "source": [
        "## 2.3. Checking the merged DataFrame\n",
        "\n",
        "After merging the two DataFrames, do some checks to make sure you were able to match all the rows. Get `.info()` on the merged data and then check the first rows.\n",
        "\n"
      ]
    },
    {
      "cell_type": "markdown",
      "source": [
        "## 2.4 Missing Values\n"
      ],
      "metadata": {
        "id": "iLhdn0zPsYnA"
      }
    },
    {
      "cell_type": "markdown",
      "source": [
        "Lets check if any rows have missing data. Display the any rows with missing data."
      ],
      "metadata": {
        "id": "nmFVIpZpsg1p"
      }
    },
    {
      "cell_type": "markdown",
      "metadata": {
        "id": "G5MWqg6zOVa6"
      },
      "source": [
        "Filter the merged dataframe to look at Brazil, Russia, and Turkey and display the data for those three countries:"
      ]
    },
    {
      "cell_type": "markdown",
      "metadata": {
        "id": "90svWYrGMH-C"
      },
      "source": [
        "What do you notice for the values for those countries? Do you have any thoughts on why this might be?"
      ]
    },
    {
      "cell_type": "markdown",
      "metadata": {
        "id": "-txTkDJr7Mfy"
      },
      "source": [
        "## 2.5 Displaying the Results\n",
        "To wrap things up, let's display the data we just cleaned in a sorted table.\n",
        "\n",
        "First, sort your table by the proportion of endangered mammals in each country so that the country with the highest proportion is first (descending order).\n",
        "\n"
      ]
    },
    {
      "cell_type": "markdown",
      "source": [
        "## 2.6 Describe the data"
      ],
      "metadata": {
        "id": "a7ahvhD0tKIR"
      }
    },
    {
      "cell_type": "markdown",
      "source": [
        "Output the count, mean, standard deviation, min, and percentiles and max for the `proportion_endangered` and `percent_protected`. What is the max value for each?\n",
        "\n",
        "Make a histogram for each of these columns. Describe what you observe in the two graphs."
      ],
      "metadata": {
        "id": "FVb5SnT7tXOC"
      }
    },
    {
      "cell_type": "markdown",
      "metadata": {
        "id": "VwzyOQJwQ9xK"
      },
      "source": [
        "Now, sort your table by the proportion of land area protected in each country so that the country with the highest proportion is first (descending order)."
      ]
    },
    {
      "cell_type": "markdown",
      "metadata": {
        "id": "A1dufLIsRFep"
      },
      "source": [
        "Scrolling through each of these two tables, what's something you notice? (Write a few sentences - there is not necessarily a 'right' answer here!)\n"
      ]
    }
  ]
}