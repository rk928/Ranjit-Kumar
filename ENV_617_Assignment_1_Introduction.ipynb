{
  "nbformat": 4,
  "nbformat_minor": 0,
  "metadata": {
    "colab": {
      "provenance": [],
      "include_colab_link": true
    },
    "kernelspec": {
      "name": "python3",
      "display_name": "Python 3"
    },
    "language_info": {
      "name": "python"
    }
  },
  "cells": [
    {
      "cell_type": "markdown",
      "metadata": {
        "id": "view-in-github",
        "colab_type": "text"
      },
      "source": [
        "<a href=\"https://colab.research.google.com/github/rk928/Ranjit-Kumar/blob/main/ENV_617_Assignment_1_Introduction.ipynb\" target=\"_parent\"><img src=\"https://colab.research.google.com/assets/colab-badge.svg\" alt=\"Open In Colab\"/></a>"
      ]
    },
    {
      "cell_type": "markdown",
      "metadata": {
        "id": "yqcDj_kuXdfL"
      },
      "source": [
        "# Assignment 1: Introduction\n",
        "\n",
        "This is a simple assignment to make sure you've got GitHub and Colab set up. Reach out if you have trouble!"
      ]
    },
    {
      "cell_type": "code",
      "metadata": {
        "id": "k7bRhZlwXZbs",
        "outputId": "a4feb730-d9ce-4d0f-de69-e6a1e657b6c6",
        "colab": {
          "base_uri": "https://localhost:8080/"
        }
      },
      "source": [
        "# Fill in the information below and run this cell so that the output is printed below.\n",
        "my_name = \"Ranjit\"\n",
        "todays_date = \"Jan15,2025\"\n",
        "print(\"Hello \" + my_name +\"! Today is \" + todays_date +\".\")"
      ],
      "execution_count": 1,
      "outputs": [
        {
          "output_type": "stream",
          "name": "stdout",
          "text": [
            "Hello Ranjit! Today is Jan15,2025.\n"
          ]
        }
      ]
    },
    {
      "cell_type": "code",
      "metadata": {
        "id": "Z-JNE56hYE3a"
      },
      "source": [
        "# Now, commit your changes back to the GitHub repository by going to File > Save a copy in GitHub."
      ],
      "execution_count": null,
      "outputs": []
    }
  ]
}